{
 "cells": [
  {
   "cell_type": "code",
   "execution_count": 12,
   "metadata": {},
   "outputs": [],
   "source": [
    "from functools import lru_cache\n"
   ]
  },
  {
   "cell_type": "code",
   "execution_count": 14,
   "metadata": {},
   "outputs": [],
   "source": [
    "\n",
    "\n",
    "\n",
    "def gcd(a,b):\n",
    "    if a==0:\n",
    "        return b\n",
    "    if b==0:\n",
    "        return a\n",
    "    k=0\n",
    "    \n",
    "    # lets remove all the common 2's in both a and b\n",
    "    while ((a|b) & 1)==0:\n",
    "        a>>=1\n",
    "        b>>=1\n",
    "        k+=1\n",
    "    \n",
    "    # remove a all 2's\n",
    "    \n",
    "    while a & 1 ==0:\n",
    "        a>>=1\n",
    "    \n",
    "    # now that we have a as odd we will always keep it that way and play with b\n",
    "    \n",
    "    while b!=0:\n",
    "        #remove all the extra 2's from b\n",
    "        while b&1==0:\n",
    "            b>>=1\n",
    "        if a>b:\n",
    "            b,a = a,b\n",
    "            \n",
    "        b = b-a\n",
    "    \n",
    "    return a<<k\n",
    "\n",
    "@lru_cache(None)\n",
    "def gcd2(a,b):\n",
    "    if b==0:\n",
    "        return a\n",
    "    a%=b\n",
    "    return gcd2(b,a)"
   ]
  },
  {
   "cell_type": "code",
   "execution_count": 17,
   "metadata": {},
   "outputs": [
    {
     "name": "stdout",
     "output_type": "stream",
     "text": [
      "39.6 ms ± 688 µs per loop (mean ± std. dev. of 7 runs, 10 loops each)\n"
     ]
    }
   ],
   "source": [
    "%%timeit\n",
    "import random\n",
    "\n",
    "\n",
    "for _ in range(10000):\n",
    "    a,b = random.randint(1,1000),random.randint(1,1000)\n",
    "    if b>a:\n",
    "        a,b = b,a\n",
    "    gcd(a,b)\n",
    "    \n",
    "    "
   ]
  },
  {
   "cell_type": "code",
   "execution_count": 18,
   "metadata": {},
   "outputs": [
    {
     "name": "stdout",
     "output_type": "stream",
     "text": [
      "24 ms ± 248 µs per loop (mean ± std. dev. of 7 runs, 10 loops each)\n"
     ]
    }
   ],
   "source": [
    "%%timeit\n",
    "import random\n",
    "\n",
    "\n",
    "for _ in range(10000):\n",
    "    a,b = random.randint(1,1000),random.randint(1,1000)\n",
    "    if b>a:\n",
    "        a,b = b,a\n",
    "    gcd2(a,b)\n",
    "    \n",
    "    "
   ]
  },
  {
   "cell_type": "code",
   "execution_count": null,
   "metadata": {},
   "outputs": [],
   "source": []
  }
 ],
 "metadata": {
  "kernelspec": {
   "display_name": "Python 3",
   "language": "python",
   "name": "python3"
  },
  "language_info": {
   "codemirror_mode": {
    "name": "ipython",
    "version": 3
   },
   "file_extension": ".py",
   "mimetype": "text/x-python",
   "name": "python",
   "nbconvert_exporter": "python",
   "pygments_lexer": "ipython3",
   "version": "3.7.0"
  },
  "orig_nbformat": 4,
  "vscode": {
   "interpreter": {
    "hash": "e534e48711db4d1e1c48977d0d14ff85b1f16d41bcc4fdfd88268a329b3c9d66"
   }
  }
 },
 "nbformat": 4,
 "nbformat_minor": 2
}
